{
 "cells": [
  {
   "cell_type": "markdown",
   "metadata": {},
   "source": [
    "# Fraud\n",
    "\n",
    "## Goal\n",
    "\n",
    "The goal of this challenge is to build a machine learning model that predicts the probability that the first transaction of a new user is fraudulent.\n",
    "\n",
    "## Challenge Description\n",
    "\n",
    "Company XYZ is an e-commerce site that sells hand-made clothes.\n",
    "\n",
    "\n",
    "You have to build a model that predicts whether a user has a high probability of using the site to perform some illegal activity or not. This is a super common task for data scientists.\n",
    "\n",
    "\n",
    "You only have information about the user first transaction on the site and based on that you have to make your classification (“fraud/no fraud”).\n",
    "\n",
    "\n",
    "These are the tasks you are asked to do:\n",
    "\n",
    "\n",
    "* For each user, determine their country based on the IP address\n",
    "\n",
    "\n",
    "* Build a model to predict whether an activity is fraudulent or not. Explain how different assumptions about the cost of false positives vs false negatives would impact the model\n",
    "\n",
    "\n",
    "* Your boss is a bit worried about using a model she doesn’t understand for something as important as fraud detection. How would you explain her how the model is making the predictions? Not from a mathematical perspective (she couldn’t care less about that), but from a user perspective. What kinds of users are more likely to be classified as at risk? What are their characteristics?\n",
    "\n",
    "\n",
    "* Let’s say you now have this model which can be used live to predict in real time if an activity is fraudulent or not. From a product perspective, how would you use it? That is, what kind of different user experiences would you build based on the model output? "
   ]
  },
  {
   "cell_type": "markdown",
   "metadata": {},
   "source": [
    "## Load Data"
   ]
  },
  {
   "cell_type": "code",
   "execution_count": 1,
   "metadata": {},
   "outputs": [],
   "source": [
    "# import packages\n",
    "import pandas as pd\n",
    "import numpy as np\n",
    "import seaborn as sns\n",
    "import matplotlib.pyplot as plt\n",
    "from IPython.core.interactiveshell import InteractiveShell\n",
    "InteractiveShell.ast_node_interactivity = 'all'\n",
    "pd.set_option('display.max_columns', 20)\n",
    "pd.set_option('display.width', 350)"
   ]
  },
  {
   "cell_type": "code",
   "execution_count": 2,
   "metadata": {},
   "outputs": [
    {
     "data": {
      "text/plain": [
       "(151112, 11)"
      ]
     },
     "execution_count": 2,
     "metadata": {},
     "output_type": "execute_result"
    },
    {
     "data": {
      "text/html": [
       "<div>\n",
       "<style scoped>\n",
       "    .dataframe tbody tr th:only-of-type {\n",
       "        vertical-align: middle;\n",
       "    }\n",
       "\n",
       "    .dataframe tbody tr th {\n",
       "        vertical-align: top;\n",
       "    }\n",
       "\n",
       "    .dataframe thead th {\n",
       "        text-align: right;\n",
       "    }\n",
       "</style>\n",
       "<table border=\"1\" class=\"dataframe\">\n",
       "  <thead>\n",
       "    <tr style=\"text-align: right;\">\n",
       "      <th></th>\n",
       "      <th>user_id</th>\n",
       "      <th>signup_time</th>\n",
       "      <th>purchase_time</th>\n",
       "      <th>purchase_value</th>\n",
       "      <th>device_id</th>\n",
       "      <th>source</th>\n",
       "      <th>browser</th>\n",
       "      <th>sex</th>\n",
       "      <th>age</th>\n",
       "      <th>ip_address</th>\n",
       "      <th>class</th>\n",
       "    </tr>\n",
       "  </thead>\n",
       "  <tbody>\n",
       "    <tr>\n",
       "      <th>0</th>\n",
       "      <td>22058</td>\n",
       "      <td>2015-02-24 22:55:49</td>\n",
       "      <td>2015-04-18 02:47:11</td>\n",
       "      <td>34</td>\n",
       "      <td>QVPSPJUOCKZAR</td>\n",
       "      <td>SEO</td>\n",
       "      <td>Chrome</td>\n",
       "      <td>M</td>\n",
       "      <td>39</td>\n",
       "      <td>7.327584e+08</td>\n",
       "      <td>0</td>\n",
       "    </tr>\n",
       "    <tr>\n",
       "      <th>1</th>\n",
       "      <td>333320</td>\n",
       "      <td>2015-06-07 20:39:50</td>\n",
       "      <td>2015-06-08 01:38:54</td>\n",
       "      <td>16</td>\n",
       "      <td>EOGFQPIZPYXFZ</td>\n",
       "      <td>Ads</td>\n",
       "      <td>Chrome</td>\n",
       "      <td>F</td>\n",
       "      <td>53</td>\n",
       "      <td>3.503114e+08</td>\n",
       "      <td>0</td>\n",
       "    </tr>\n",
       "    <tr>\n",
       "      <th>2</th>\n",
       "      <td>1359</td>\n",
       "      <td>2015-01-01 18:52:44</td>\n",
       "      <td>2015-01-01 18:52:45</td>\n",
       "      <td>15</td>\n",
       "      <td>YSSKYOSJHPPLJ</td>\n",
       "      <td>SEO</td>\n",
       "      <td>Opera</td>\n",
       "      <td>M</td>\n",
       "      <td>53</td>\n",
       "      <td>2.621474e+09</td>\n",
       "      <td>1</td>\n",
       "    </tr>\n",
       "    <tr>\n",
       "      <th>3</th>\n",
       "      <td>150084</td>\n",
       "      <td>2015-04-28 21:13:25</td>\n",
       "      <td>2015-05-04 13:54:50</td>\n",
       "      <td>44</td>\n",
       "      <td>ATGTXKYKUDUQN</td>\n",
       "      <td>SEO</td>\n",
       "      <td>Safari</td>\n",
       "      <td>M</td>\n",
       "      <td>41</td>\n",
       "      <td>3.840542e+09</td>\n",
       "      <td>0</td>\n",
       "    </tr>\n",
       "    <tr>\n",
       "      <th>4</th>\n",
       "      <td>221365</td>\n",
       "      <td>2015-07-21 07:09:52</td>\n",
       "      <td>2015-09-09 18:40:53</td>\n",
       "      <td>39</td>\n",
       "      <td>NAUITBZFJKHWW</td>\n",
       "      <td>Ads</td>\n",
       "      <td>Safari</td>\n",
       "      <td>M</td>\n",
       "      <td>45</td>\n",
       "      <td>4.155831e+08</td>\n",
       "      <td>0</td>\n",
       "    </tr>\n",
       "  </tbody>\n",
       "</table>\n",
       "</div>"
      ],
      "text/plain": [
       "   user_id          signup_time        purchase_time  purchase_value      device_id source browser sex  age    ip_address  class\n",
       "0    22058  2015-02-24 22:55:49  2015-04-18 02:47:11              34  QVPSPJUOCKZAR    SEO  Chrome   M   39  7.327584e+08      0\n",
       "1   333320  2015-06-07 20:39:50  2015-06-08 01:38:54              16  EOGFQPIZPYXFZ    Ads  Chrome   F   53  3.503114e+08      0\n",
       "2     1359  2015-01-01 18:52:44  2015-01-01 18:52:45              15  YSSKYOSJHPPLJ    SEO   Opera   M   53  2.621474e+09      1\n",
       "3   150084  2015-04-28 21:13:25  2015-05-04 13:54:50              44  ATGTXKYKUDUQN    SEO  Safari   M   41  3.840542e+09      0\n",
       "4   221365  2015-07-21 07:09:52  2015-09-09 18:40:53              39  NAUITBZFJKHWW    Ads  Safari   M   45  4.155831e+08      0"
      ]
     },
     "execution_count": 2,
     "metadata": {},
     "output_type": "execute_result"
    }
   ],
   "source": [
    "df_fraud = pd.read_csv('Fraud_Data.csv')\n",
    "df_fraud.shape\n",
    "df_fraud.head()"
   ]
  },
  {
   "cell_type": "code",
   "execution_count": 3,
   "metadata": {},
   "outputs": [
    {
     "data": {
      "text/plain": [
       "(138846, 3)"
      ]
     },
     "execution_count": 3,
     "metadata": {},
     "output_type": "execute_result"
    },
    {
     "data": {
      "text/html": [
       "<div>\n",
       "<style scoped>\n",
       "    .dataframe tbody tr th:only-of-type {\n",
       "        vertical-align: middle;\n",
       "    }\n",
       "\n",
       "    .dataframe tbody tr th {\n",
       "        vertical-align: top;\n",
       "    }\n",
       "\n",
       "    .dataframe thead th {\n",
       "        text-align: right;\n",
       "    }\n",
       "</style>\n",
       "<table border=\"1\" class=\"dataframe\">\n",
       "  <thead>\n",
       "    <tr style=\"text-align: right;\">\n",
       "      <th></th>\n",
       "      <th>lower_bound_ip_address</th>\n",
       "      <th>upper_bound_ip_address</th>\n",
       "      <th>country</th>\n",
       "    </tr>\n",
       "  </thead>\n",
       "  <tbody>\n",
       "    <tr>\n",
       "      <th>0</th>\n",
       "      <td>16777216.0</td>\n",
       "      <td>16777471</td>\n",
       "      <td>Australia</td>\n",
       "    </tr>\n",
       "    <tr>\n",
       "      <th>1</th>\n",
       "      <td>16777472.0</td>\n",
       "      <td>16777727</td>\n",
       "      <td>China</td>\n",
       "    </tr>\n",
       "    <tr>\n",
       "      <th>2</th>\n",
       "      <td>16777728.0</td>\n",
       "      <td>16778239</td>\n",
       "      <td>China</td>\n",
       "    </tr>\n",
       "    <tr>\n",
       "      <th>3</th>\n",
       "      <td>16778240.0</td>\n",
       "      <td>16779263</td>\n",
       "      <td>Australia</td>\n",
       "    </tr>\n",
       "    <tr>\n",
       "      <th>4</th>\n",
       "      <td>16779264.0</td>\n",
       "      <td>16781311</td>\n",
       "      <td>China</td>\n",
       "    </tr>\n",
       "  </tbody>\n",
       "</table>\n",
       "</div>"
      ],
      "text/plain": [
       "   lower_bound_ip_address  upper_bound_ip_address    country\n",
       "0              16777216.0                16777471  Australia\n",
       "1              16777472.0                16777727      China\n",
       "2              16777728.0                16778239      China\n",
       "3              16778240.0                16779263  Australia\n",
       "4              16779264.0                16781311      China"
      ]
     },
     "execution_count": 3,
     "metadata": {},
     "output_type": "execute_result"
    }
   ],
   "source": [
    "df_ip = pd.read_csv('IpAddress_to_Country.csv')\n",
    "df_ip.shape\n",
    "df_ip.head()"
   ]
  },
  {
   "cell_type": "markdown",
   "metadata": {},
   "source": [
    "## Question 1"
   ]
  },
  {
   "cell_type": "code",
   "execution_count": 4,
   "metadata": {},
   "outputs": [],
   "source": [
    "ip_to_country = [None] * df_fraud.shape[0]"
   ]
  },
  {
   "cell_type": "code",
   "execution_count": 5,
   "metadata": {},
   "outputs": [],
   "source": [
    "for i in range(len(ip_to_country)):\n",
    "    tmp_countries = df_ip[(df_fraud['ip_address'][i] >= df_ip['lower_bound_ip_address']) &\n",
    "    (df_fraud['ip_address'][i] <= df_ip['upper_bound_ip_address'])]['country'].values\n",
    "    \n",
    "    if len(tmp_countries) == 1:\n",
    "        ip_to_country[i] = tmp_countries"
   ]
  },
  {
   "cell_type": "code",
   "execution_count": 6,
   "metadata": {},
   "outputs": [],
   "source": [
    "df_fraud['country'] = ip_to_country"
   ]
  },
  {
   "cell_type": "code",
   "execution_count": 7,
   "metadata": {},
   "outputs": [],
   "source": [
    "df_fraud['country'] = df_fraud['country'].str.get(0)"
   ]
  },
  {
   "cell_type": "code",
   "execution_count": 8,
   "metadata": {},
   "outputs": [
    {
     "data": {
      "text/plain": [
       "United States                     58049\n",
       "China                             12038\n",
       "Japan                              7306\n",
       "United Kingdom                     4490\n",
       "Korea Republic of                  4162\n",
       "                                  ...  \n",
       "British Indian Ocean Territory        1\n",
       "Nauru                                 1\n",
       "Burundi                               1\n",
       "Vanuatu                               1\n",
       "Dominica                              1\n",
       "Name: country, Length: 181, dtype: int64"
      ]
     },
     "execution_count": 8,
     "metadata": {},
     "output_type": "execute_result"
    }
   ],
   "source": [
    "df_fraud.country.value_counts()"
   ]
  },
  {
   "cell_type": "markdown",
   "metadata": {},
   "source": [
    "## Question 2"
   ]
  },
  {
   "cell_type": "markdown",
   "metadata": {},
   "source": [
    "feature engineering"
   ]
  },
  {
   "cell_type": "code",
   "execution_count": 9,
   "metadata": {},
   "outputs": [
    {
     "data": {
      "text/html": [
       "<div>\n",
       "<style scoped>\n",
       "    .dataframe tbody tr th:only-of-type {\n",
       "        vertical-align: middle;\n",
       "    }\n",
       "\n",
       "    .dataframe tbody tr th {\n",
       "        vertical-align: top;\n",
       "    }\n",
       "\n",
       "    .dataframe thead th {\n",
       "        text-align: right;\n",
       "    }\n",
       "</style>\n",
       "<table border=\"1\" class=\"dataframe\">\n",
       "  <thead>\n",
       "    <tr style=\"text-align: right;\">\n",
       "      <th></th>\n",
       "      <th>user_id</th>\n",
       "      <th>signup_time</th>\n",
       "      <th>purchase_time</th>\n",
       "      <th>purchase_value</th>\n",
       "      <th>device_id</th>\n",
       "      <th>source</th>\n",
       "      <th>browser</th>\n",
       "      <th>sex</th>\n",
       "      <th>age</th>\n",
       "      <th>ip_address</th>\n",
       "      <th>class</th>\n",
       "      <th>country</th>\n",
       "    </tr>\n",
       "  </thead>\n",
       "  <tbody>\n",
       "    <tr>\n",
       "      <th>0</th>\n",
       "      <td>22058</td>\n",
       "      <td>2015-02-24 22:55:49</td>\n",
       "      <td>2015-04-18 02:47:11</td>\n",
       "      <td>34</td>\n",
       "      <td>QVPSPJUOCKZAR</td>\n",
       "      <td>SEO</td>\n",
       "      <td>Chrome</td>\n",
       "      <td>M</td>\n",
       "      <td>39</td>\n",
       "      <td>7.327584e+08</td>\n",
       "      <td>0</td>\n",
       "      <td>Japan</td>\n",
       "    </tr>\n",
       "    <tr>\n",
       "      <th>1</th>\n",
       "      <td>333320</td>\n",
       "      <td>2015-06-07 20:39:50</td>\n",
       "      <td>2015-06-08 01:38:54</td>\n",
       "      <td>16</td>\n",
       "      <td>EOGFQPIZPYXFZ</td>\n",
       "      <td>Ads</td>\n",
       "      <td>Chrome</td>\n",
       "      <td>F</td>\n",
       "      <td>53</td>\n",
       "      <td>3.503114e+08</td>\n",
       "      <td>0</td>\n",
       "      <td>United States</td>\n",
       "    </tr>\n",
       "    <tr>\n",
       "      <th>2</th>\n",
       "      <td>1359</td>\n",
       "      <td>2015-01-01 18:52:44</td>\n",
       "      <td>2015-01-01 18:52:45</td>\n",
       "      <td>15</td>\n",
       "      <td>YSSKYOSJHPPLJ</td>\n",
       "      <td>SEO</td>\n",
       "      <td>Opera</td>\n",
       "      <td>M</td>\n",
       "      <td>53</td>\n",
       "      <td>2.621474e+09</td>\n",
       "      <td>1</td>\n",
       "      <td>United States</td>\n",
       "    </tr>\n",
       "    <tr>\n",
       "      <th>3</th>\n",
       "      <td>150084</td>\n",
       "      <td>2015-04-28 21:13:25</td>\n",
       "      <td>2015-05-04 13:54:50</td>\n",
       "      <td>44</td>\n",
       "      <td>ATGTXKYKUDUQN</td>\n",
       "      <td>SEO</td>\n",
       "      <td>Safari</td>\n",
       "      <td>M</td>\n",
       "      <td>41</td>\n",
       "      <td>3.840542e+09</td>\n",
       "      <td>0</td>\n",
       "      <td>None</td>\n",
       "    </tr>\n",
       "    <tr>\n",
       "      <th>4</th>\n",
       "      <td>221365</td>\n",
       "      <td>2015-07-21 07:09:52</td>\n",
       "      <td>2015-09-09 18:40:53</td>\n",
       "      <td>39</td>\n",
       "      <td>NAUITBZFJKHWW</td>\n",
       "      <td>Ads</td>\n",
       "      <td>Safari</td>\n",
       "      <td>M</td>\n",
       "      <td>45</td>\n",
       "      <td>4.155831e+08</td>\n",
       "      <td>0</td>\n",
       "      <td>United States</td>\n",
       "    </tr>\n",
       "  </tbody>\n",
       "</table>\n",
       "</div>"
      ],
      "text/plain": [
       "   user_id          signup_time        purchase_time  purchase_value      device_id source browser sex  age    ip_address  class        country\n",
       "0    22058  2015-02-24 22:55:49  2015-04-18 02:47:11              34  QVPSPJUOCKZAR    SEO  Chrome   M   39  7.327584e+08      0          Japan\n",
       "1   333320  2015-06-07 20:39:50  2015-06-08 01:38:54              16  EOGFQPIZPYXFZ    Ads  Chrome   F   53  3.503114e+08      0  United States\n",
       "2     1359  2015-01-01 18:52:44  2015-01-01 18:52:45              15  YSSKYOSJHPPLJ    SEO   Opera   M   53  2.621474e+09      1  United States\n",
       "3   150084  2015-04-28 21:13:25  2015-05-04 13:54:50              44  ATGTXKYKUDUQN    SEO  Safari   M   41  3.840542e+09      0           None\n",
       "4   221365  2015-07-21 07:09:52  2015-09-09 18:40:53              39  NAUITBZFJKHWW    Ads  Safari   M   45  4.155831e+08      0  United States"
      ]
     },
     "execution_count": 9,
     "metadata": {},
     "output_type": "execute_result"
    }
   ],
   "source": [
    "df_fraud.head()"
   ]
  },
  {
   "cell_type": "code",
   "execution_count": 10,
   "metadata": {},
   "outputs": [],
   "source": [
    "df_fraud['signup_time'] = pd.to_datetime(df_fraud['signup_time'])\n",
    "df_fraud['purchase_time'] = pd.to_datetime(df_fraud['purchase_time'])"
   ]
  },
  {
   "cell_type": "code",
   "execution_count": 11,
   "metadata": {},
   "outputs": [],
   "source": [
    "df_fraud['time_diff'] = (df_fraud['purchase_time'] - df_fraud['signup_time']).dt.total_seconds()"
   ]
  },
  {
   "cell_type": "code",
   "execution_count": 12,
   "metadata": {},
   "outputs": [],
   "source": [
    "df_fraud['device_cnt'] = df_fraud.groupby('device_id')['user_id'].transform('count')"
   ]
  },
  {
   "cell_type": "code",
   "execution_count": 13,
   "metadata": {},
   "outputs": [],
   "source": [
    "df_fraud['ip_cnt'] = df_fraud.groupby('ip_address')['user_id'].transform('count')"
   ]
  },
  {
   "cell_type": "code",
   "execution_count": 14,
   "metadata": {},
   "outputs": [],
   "source": [
    "df_fraud['country'].fillna('Not_Found', inplace = True)"
   ]
  },
  {
   "cell_type": "code",
   "execution_count": 15,
   "metadata": {},
   "outputs": [],
   "source": [
    "# keep top 50 countries\n",
    "bottom_country = df_fraud.groupby('country').size().sort_values(ascending = False)[50:].index"
   ]
  },
  {
   "cell_type": "code",
   "execution_count": 16,
   "metadata": {},
   "outputs": [],
   "source": [
    "df_fraud['new_country'] = df_fraud['country'].apply(lambda x: 'Others' if x in bottom_country else x)"
   ]
  },
  {
   "cell_type": "code",
   "execution_count": 17,
   "metadata": {},
   "outputs": [],
   "source": [
    "df = df_fraud.drop(columns = ['user_id','signup_time','purchase_time','device_id','ip_address','country'])"
   ]
  },
  {
   "cell_type": "markdown",
   "metadata": {},
   "source": [
    "build model"
   ]
  },
  {
   "cell_type": "code",
   "execution_count": 18,
   "metadata": {},
   "outputs": [],
   "source": [
    "from sklearn.preprocessing import StandardScaler\n",
    "from sklearn.ensemble import RandomForestClassifier\n",
    "from sklearn.model_selection import train_test_split\n",
    "from scipy import sparse\n",
    "from sklearn.impute import SimpleImputer\n",
    "from sklearn.preprocessing import OneHotEncoder\n",
    "from sklearn.pipeline import make_pipeline\n",
    "from sklearn.compose import ColumnTransformer"
   ]
  },
  {
   "cell_type": "code",
   "execution_count": 20,
   "metadata": {},
   "outputs": [],
   "source": [
    "X = df.drop(columns = 'class')\n",
    "y = df['class']"
   ]
  },
  {
   "cell_type": "code",
   "execution_count": 21,
   "metadata": {},
   "outputs": [],
   "source": [
    "col_num = ['purchase_value','age','time_diff','device_cnt','ip_cnt']\n",
    "col_cat = ['source','browser','sex','new_country']"
   ]
  },
  {
   "cell_type": "code",
   "execution_count": 22,
   "metadata": {},
   "outputs": [],
   "source": [
    "# split\n",
    "X_train, X_test, y_train, y_test = train_test_split(X, y, stratify = y, test_size = 0.34, random_state = 42)"
   ]
  },
  {
   "cell_type": "code",
   "execution_count": 23,
   "metadata": {},
   "outputs": [],
   "source": [
    "categorical_pipe = make_pipeline(SimpleImputer(strategy='constant', fill_value='missing'), OneHotEncoder(handle_unknown='ignore'))\n",
    "numerical_pipe = make_pipeline(SimpleImputer(strategy='mean'), StandardScaler())"
   ]
  },
  {
   "cell_type": "code",
   "execution_count": 24,
   "metadata": {},
   "outputs": [],
   "source": [
    "preprocessing = ColumnTransformer([('cat', categorical_pipe, col_cat),\n",
    "                                   ('num', numerical_pipe, col_num)])"
   ]
  },
  {
   "cell_type": "code",
   "execution_count": 25,
   "metadata": {},
   "outputs": [],
   "source": [
    "rf = make_pipeline(preprocessing, RandomForestClassifier(n_estimators = 100, max_features = 3, oob_score = True, random_state=42))"
   ]
  },
  {
   "cell_type": "code",
   "execution_count": 26,
   "metadata": {},
   "outputs": [
    {
     "data": {
      "text/plain": [
       "Pipeline(steps=[('columntransformer',\n",
       "                 ColumnTransformer(transformers=[('cat',\n",
       "                                                  Pipeline(steps=[('simpleimputer',\n",
       "                                                                   SimpleImputer(fill_value='missing',\n",
       "                                                                                 strategy='constant')),\n",
       "                                                                  ('onehotencoder',\n",
       "                                                                   OneHotEncoder(handle_unknown='ignore'))]),\n",
       "                                                  ['source', 'browser', 'sex',\n",
       "                                                   'new_country']),\n",
       "                                                 ('num',\n",
       "                                                  Pipeline(steps=[('simpleimputer',\n",
       "                                                                   SimpleImputer()),\n",
       "                                                                  ('standardscaler',\n",
       "                                                                   StandardScaler())]),\n",
       "                                                  ['purchase_value', 'age',\n",
       "                                                   'time_diff', 'device_cnt',\n",
       "                                                   'ip_cnt'])])),\n",
       "                ('randomforestclassifier',\n",
       "                 RandomForestClassifier(max_features=3, oob_score=True,\n",
       "                                        random_state=42))])"
      ]
     },
     "execution_count": 26,
     "metadata": {},
     "output_type": "execute_result"
    }
   ],
   "source": [
    "rf.fit(X_train, y_train)"
   ]
  },
  {
   "cell_type": "code",
   "execution_count": 27,
   "metadata": {},
   "outputs": [],
   "source": [
    "from sklearn.metrics import confusion_matrix"
   ]
  },
  {
   "cell_type": "code",
   "execution_count": 28,
   "metadata": {},
   "outputs": [
    {
     "data": {
      "text/plain": [
       "0.9999298125996411"
      ]
     },
     "execution_count": 28,
     "metadata": {},
     "output_type": "execute_result"
    }
   ],
   "source": [
    "rf.score(X_train, y_train)"
   ]
  },
  {
   "cell_type": "code",
   "execution_count": 29,
   "metadata": {},
   "outputs": [
    {
     "data": {
      "text/plain": [
       "0.955215165729189"
      ]
     },
     "execution_count": 29,
     "metadata": {},
     "output_type": "execute_result"
    }
   ],
   "source": [
    "rf.score(X_test, y_test)"
   ]
  },
  {
   "cell_type": "markdown",
   "metadata": {},
   "source": [
    "no overfitting"
   ]
  },
  {
   "cell_type": "markdown",
   "metadata": {},
   "source": [
    "## ROC"
   ]
  },
  {
   "cell_type": "code",
   "execution_count": 30,
   "metadata": {},
   "outputs": [],
   "source": [
    "from sklearn.metrics import roc_curve"
   ]
  },
  {
   "cell_type": "code",
   "execution_count": 31,
   "metadata": {},
   "outputs": [],
   "source": [
    "pred_prob = rf.predict_proba(X_test)"
   ]
  },
  {
   "cell_type": "code",
   "execution_count": 32,
   "metadata": {},
   "outputs": [],
   "source": [
    "fpr, tpr, threshold = roc_curve(y_test.values, pred_prob[:,1])"
   ]
  },
  {
   "cell_type": "code",
   "execution_count": 33,
   "metadata": {},
   "outputs": [
    {
     "data": {
      "text/plain": [
       "[<matplotlib.lines.Line2D at 0x13ebd8150>]"
      ]
     },
     "execution_count": 33,
     "metadata": {},
     "output_type": "execute_result"
    },
    {
     "data": {
      "text/plain": [
       "[<matplotlib.lines.Line2D at 0x142202a90>]"
      ]
     },
     "execution_count": 33,
     "metadata": {},
     "output_type": "execute_result"
    },
    {
     "data": {
      "text/plain": [
       "(0.0, 1.0)"
      ]
     },
     "execution_count": 33,
     "metadata": {},
     "output_type": "execute_result"
    },
    {
     "data": {
      "text/plain": [
       "Text(0.5, 0, 'False Positive Rate')"
      ]
     },
     "execution_count": 33,
     "metadata": {},
     "output_type": "execute_result"
    },
    {
     "data": {
      "text/plain": [
       "Text(0, 0.5, 'True Positive Rate')"
      ]
     },
     "execution_count": 33,
     "metadata": {},
     "output_type": "execute_result"
    },
    {
     "data": {
      "text/plain": [
       "Text(0.5, 1.0, 'ROC')"
      ]
     },
     "execution_count": 33,
     "metadata": {},
     "output_type": "execute_result"
    },
    {
     "data": {
      "image/png": "[encoded data removed]",
      "text/plain": [
       "<Figure size 432x288 with 1 Axes>"
      ]
     },
     "metadata": {
      "needs_background": "light"
     },
     "output_type": "display_data"
    }
   ],
   "source": [
    "plt.plot(fpr, tpr)\n",
    "plt.plot([0,1], [0,1])\n",
    "plt.ylim([0.,1.0])\n",
    "plt.xlabel('False Positive Rate')\n",
    "plt.ylabel('True Positive Rate')\n",
    "plt.title('ROC')\n",
    "plt.show()"
   ]
  },
  {
   "cell_type": "code",
   "execution_count": 34,
   "metadata": {},
   "outputs": [],
   "source": [
    "error_cutoff = pd.DataFrame({'cutoff': pd.Series(threshold),\n",
    "             'fpr': pd.Series(fpr),\n",
    "             'tpr': pd.Series(tpr)})"
   ]
  },
  {
   "cell_type": "code",
   "execution_count": 35,
   "metadata": {},
   "outputs": [],
   "source": [
    "# purpose: maximizing (tpr - fpr)\n",
    "error_cutoff['diff'] = error_cutoff['tpr'] - error_cutoff['fpr']"
   ]
  },
  {
   "cell_type": "code",
   "execution_count": 36,
   "metadata": {},
   "outputs": [
    {
     "data": {
      "text/html": [
       "<div>\n",
       "<style scoped>\n",
       "    .dataframe tbody tr th:only-of-type {\n",
       "        vertical-align: middle;\n",
       "    }\n",
       "\n",
       "    .dataframe tbody tr th {\n",
       "        vertical-align: top;\n",
       "    }\n",
       "\n",
       "    .dataframe thead th {\n",
       "        text-align: right;\n",
       "    }\n",
       "</style>\n",
       "<table border=\"1\" class=\"dataframe\">\n",
       "  <thead>\n",
       "    <tr style=\"text-align: right;\">\n",
       "      <th></th>\n",
       "      <th>cutoff</th>\n",
       "      <th>fpr</th>\n",
       "      <th>tpr</th>\n",
       "      <th>diff</th>\n",
       "    </tr>\n",
       "  </thead>\n",
       "  <tbody>\n",
       "    <tr>\n",
       "      <th>68</th>\n",
       "      <td>0.15</td>\n",
       "      <td>0.082374</td>\n",
       "      <td>0.673457</td>\n",
       "      <td>0.591082</td>\n",
       "    </tr>\n",
       "  </tbody>\n",
       "</table>\n",
       "</div>"
      ],
      "text/plain": [
       "    cutoff       fpr       tpr      diff\n",
       "68    0.15  0.082374  0.673457  0.591082"
      ]
     },
     "execution_count": 36,
     "metadata": {},
     "output_type": "execute_result"
    }
   ],
   "source": [
    "error_cutoff[error_cutoff['diff'] == error_cutoff['diff'].max()]"
   ]
  },
  {
   "cell_type": "markdown",
   "metadata": {},
   "source": [
    "## Feature Importance"
   ]
  },
  {
   "cell_type": "markdown",
   "metadata": {},
   "source": [
    "[permutation importance & categorical numerical combination](https://scikit-learn.org/stable/auto_examples/inspection/plot_permutation_importance.html)"
   ]
  },
  {
   "cell_type": "code",
   "execution_count": 37,
   "metadata": {},
   "outputs": [],
   "source": [
    "from sklearn.inspection import permutation_importance"
   ]
  },
  {
   "cell_type": "markdown",
   "metadata": {},
   "source": [
    "impurity_based feature importance"
   ]
  },
  {
   "cell_type": "code",
   "execution_count": 38,
   "metadata": {},
   "outputs": [
    {
     "data": {
      "text/plain": [
       "<BarContainer object of 10 artists>"
      ]
     },
     "execution_count": 38,
     "metadata": {},
     "output_type": "execute_result"
    },
    {
     "name": "stderr",
     "output_type": "stream",
     "text": [
      "/Users/vincyxia/Projects/py-envs/py-env-main/lib/python3.7/site-packages/ipykernel_launcher.py:14: UserWarning: FixedFormatter should only be used together with FixedLocator\n",
      "  \n"
     ]
    },
    {
     "data": {
      "text/plain": [
       "[Text(0, -2.0, 'new_country_Hungary'),\n",
       " Text(0, 0.0, 'new_country_European Union'),\n",
       " Text(0, 2.0, 'new_country_Czech Republic'),\n",
       " Text(0, 4.0, 'new_country_Romania'),\n",
       " Text(0, 6.0, 'new_country_Malaysia'),\n",
       " Text(0, 8.0, 'new_country_Ireland'),\n",
       " Text(0, 10.0, 'new_country_Austria')]"
      ]
     },
     "execution_count": 38,
     "metadata": {},
     "output_type": "execute_result"
    },
    {
     "data": {
      "text/plain": [
       "[<matplotlib.axis.YTick at 0x141bbb9d0>,\n",
       " <matplotlib.axis.YTick at 0x141bb5ed0>,\n",
       " <matplotlib.axis.YTick at 0x141bb6650>,\n",
       " <matplotlib.axis.YTick at 0x142c6fd10>,\n",
       " <matplotlib.axis.YTick at 0x142c82590>,\n",
       " <matplotlib.axis.YTick at 0x142c82390>,\n",
       " <matplotlib.axis.YTick at 0x142c82a50>,\n",
       " <matplotlib.axis.YTick at 0x141bb6490>,\n",
       " <matplotlib.axis.YTick at 0x142ecb690>,\n",
       " <matplotlib.axis.YTick at 0x142ecb950>]"
      ]
     },
     "execution_count": 38,
     "metadata": {},
     "output_type": "execute_result"
    },
    {
     "data": {
      "text/plain": [
       "Text(0.5, 1.0, 'Random Forest Feature Importances (MDI)')"
      ]
     },
     "execution_count": 38,
     "metadata": {},
     "output_type": "execute_result"
    },
    {
     "data": {
      "image/png": "[encoded data removed]",
      "text/plain": [
       "<Figure size 432x288 with 1 Axes>"
      ]
     },
     "metadata": {
      "needs_background": "light"
     },
     "output_type": "display_data"
    }
   ],
   "source": [
    "ohe = (rf.named_steps['columntransformer']\n",
    "         .named_transformers_['cat']\n",
    "         .named_steps['onehotencoder'])\n",
    "feature_names = ohe.get_feature_names(input_features=col_cat)\n",
    "feature_names = np.r_[feature_names, col_num]\n",
    "\n",
    "tree_feature_importances = (\n",
    "    rf.named_steps['randomforestclassifier'].feature_importances_)\n",
    "sorted_idx = tree_feature_importances.argsort()[:10]\n",
    "\n",
    "y_ticks = np.arange(0, 10)\n",
    "fig, ax = plt.subplots()\n",
    "ax.barh(y_ticks, tree_feature_importances[sorted_idx])\n",
    "ax.set_yticklabels(feature_names[sorted_idx])\n",
    "ax.set_yticks(y_ticks)\n",
    "ax.set_title(\"Random Forest Feature Importances (MDI)\")\n",
    "fig.tight_layout()\n",
    "plt.show()"
   ]
  },
  {
   "cell_type": "markdown",
   "metadata": {},
   "source": [
    "permutation importance"
   ]
  },
  {
   "cell_type": "code",
   "execution_count": 39,
   "metadata": {},
   "outputs": [
    {
     "data": {
      "text/plain": [
       "{'whiskers': [<matplotlib.lines.Line2D at 0x14318b3d0>,\n",
       "  <matplotlib.lines.Line2D at 0x14318b810>,\n",
       "  <matplotlib.lines.Line2D at 0x1556af390>,\n",
       "  <matplotlib.lines.Line2D at 0x1556af790>,\n",
       "  <matplotlib.lines.Line2D at 0x1556c3190>,\n",
       "  <matplotlib.lines.Line2D at 0x1556c3610>,\n",
       "  <matplotlib.lines.Line2D at 0x1556d6050>,\n",
       "  <matplotlib.lines.Line2D at 0x1556d6490>,\n",
       "  <matplotlib.lines.Line2D at 0x152b5eed0>,\n",
       "  <matplotlib.lines.Line2D at 0x152b66310>,\n",
       "  <matplotlib.lines.Line2D at 0x152b72d10>,\n",
       "  <matplotlib.lines.Line2D at 0x152b7b190>,\n",
       "  <matplotlib.lines.Line2D at 0x152b85b50>,\n",
       "  <matplotlib.lines.Line2D at 0x152b85f90>,\n",
       "  <matplotlib.lines.Line2D at 0x152b98990>,\n",
       "  <matplotlib.lines.Line2D at 0x152b98dd0>,\n",
       "  <matplotlib.lines.Line2D at 0x151e54750>,\n",
       "  <matplotlib.lines.Line2D at 0x151e54b90>],\n",
       " 'caps': [<matplotlib.lines.Line2D at 0x14318bc50>,\n",
       "  <matplotlib.lines.Line2D at 0x1556a30d0>,\n",
       "  <matplotlib.lines.Line2D at 0x1556afbd0>,\n",
       "  <matplotlib.lines.Line2D at 0x1556b8050>,\n",
       "  <matplotlib.lines.Line2D at 0x1556c3a50>,\n",
       "  <matplotlib.lines.Line2D at 0x1556c3ed0>,\n",
       "  <matplotlib.lines.Line2D at 0x1556d68d0>,\n",
       "  <matplotlib.lines.Line2D at 0x1556d6d10>,\n",
       "  <matplotlib.lines.Line2D at 0x152b66750>,\n",
       "  <matplotlib.lines.Line2D at 0x152b66b50>,\n",
       "  <matplotlib.lines.Line2D at 0x152b7b5d0>,\n",
       "  <matplotlib.lines.Line2D at 0x152b7ba10>,\n",
       "  <matplotlib.lines.Line2D at 0x152b8e410>,\n",
       "  <matplotlib.lines.Line2D at 0x152b8e850>,\n",
       "  <matplotlib.lines.Line2D at 0x151e4b250>,\n",
       "  <matplotlib.lines.Line2D at 0x151e4b690>,\n",
       "  <matplotlib.lines.Line2D at 0x151e54fd0>,\n",
       "  <matplotlib.lines.Line2D at 0x151e5e450>],\n",
       " 'boxes': [<matplotlib.lines.Line2D at 0x1431a3f90>,\n",
       "  <matplotlib.lines.Line2D at 0x1556a3e50>,\n",
       "  <matplotlib.lines.Line2D at 0x1556b8cd0>,\n",
       "  <matplotlib.lines.Line2D at 0x1556cab90>,\n",
       "  <matplotlib.lines.Line2D at 0x152b5ea10>,\n",
       "  <matplotlib.lines.Line2D at 0x152b728d0>,\n",
       "  <matplotlib.lines.Line2D at 0x152b856d0>,\n",
       "  <matplotlib.lines.Line2D at 0x152b98510>,\n",
       "  <matplotlib.lines.Line2D at 0x151e54310>],\n",
       " 'medians': [<matplotlib.lines.Line2D at 0x1556a3550>,\n",
       "  <matplotlib.lines.Line2D at 0x1556b8490>,\n",
       "  <matplotlib.lines.Line2D at 0x1556ca350>,\n",
       "  <matplotlib.lines.Line2D at 0x152b5e190>,\n",
       "  <matplotlib.lines.Line2D at 0x152b66f90>,\n",
       "  <matplotlib.lines.Line2D at 0x152b7be50>,\n",
       "  <matplotlib.lines.Line2D at 0x152b8ec90>,\n",
       "  <matplotlib.lines.Line2D at 0x151e4bad0>,\n",
       "  <matplotlib.lines.Line2D at 0x151e5e890>],\n",
       " 'fliers': [<matplotlib.lines.Line2D at 0x1556a3950>,\n",
       "  <matplotlib.lines.Line2D at 0x1556b88d0>,\n",
       "  <matplotlib.lines.Line2D at 0x1556ca790>,\n",
       "  <matplotlib.lines.Line2D at 0x152b5e5d0>,\n",
       "  <matplotlib.lines.Line2D at 0x152b72450>,\n",
       "  <matplotlib.lines.Line2D at 0x152b852d0>,\n",
       "  <matplotlib.lines.Line2D at 0x152b98110>,\n",
       "  <matplotlib.lines.Line2D at 0x151e4bf10>,\n",
       "  <matplotlib.lines.Line2D at 0x151e5ec90>],\n",
       " 'means': []}"
      ]
     },
     "execution_count": 39,
     "metadata": {},
     "output_type": "execute_result"
    },
    {
     "data": {
      "text/plain": [
       "Text(0.5, 1.0, 'Permutation Importances (test set)')"
      ]
     },
     "execution_count": 39,
     "metadata": {},
     "output_type": "execute_result"
    },
    {
     "data": {
      "image/png": "[encoded data removed]",
      "text/plain": [
       "<Figure size 432x288 with 1 Axes>"
      ]
     },
     "metadata": {
      "needs_background": "light"
     },
     "output_type": "display_data"
    }
   ],
   "source": [
    "result = permutation_importance(rf, X_test, y_test, n_repeats=10,\n",
    "                                random_state=42, n_jobs=2)\n",
    "sorted_idx = result.importances_mean.argsort()[:10]\n",
    "\n",
    "fig, ax = plt.subplots()\n",
    "ax.boxplot(result.importances[sorted_idx].T,\n",
    "           vert=False, labels=X_test.columns[sorted_idx])\n",
    "ax.set_title(\"Permutation Importances (test set)\")\n",
    "fig.tight_layout()\n",
    "plt.show()"
   ]
  },
  {
   "cell_type": "code",
   "execution_count": 40,
   "metadata": {},
   "outputs": [
    {
     "data": {
      "text/plain": [
       "{'whiskers': [<matplotlib.lines.Line2D at 0x13ef24850>,\n",
       "  <matplotlib.lines.Line2D at 0x13ef24c90>,\n",
       "  <matplotlib.lines.Line2D at 0x152bd8690>,\n",
       "  <matplotlib.lines.Line2D at 0x152bd8a90>,\n",
       "  <matplotlib.lines.Line2D at 0x152be7490>,\n",
       "  <matplotlib.lines.Line2D at 0x152be7910>,\n",
       "  <matplotlib.lines.Line2D at 0x152bfe350>,\n",
       "  <matplotlib.lines.Line2D at 0x152bfe790>,\n",
       "  <matplotlib.lines.Line2D at 0x15564a210>,\n",
       "  <matplotlib.lines.Line2D at 0x15564a610>,\n",
       "  <matplotlib.lines.Line2D at 0x15565e050>,\n",
       "  <matplotlib.lines.Line2D at 0x15565e490>,\n",
       "  <matplotlib.lines.Line2D at 0x155667e50>,\n",
       "  <matplotlib.lines.Line2D at 0x1556732d0>,\n",
       "  <matplotlib.lines.Line2D at 0x152c30c90>,\n",
       "  <matplotlib.lines.Line2D at 0x152c3a110>,\n",
       "  <matplotlib.lines.Line2D at 0x152c43a50>,\n",
       "  <matplotlib.lines.Line2D at 0x152c43e90>],\n",
       " 'caps': [<matplotlib.lines.Line2D at 0x152bd2110>,\n",
       "  <matplotlib.lines.Line2D at 0x152bd2550>,\n",
       "  <matplotlib.lines.Line2D at 0x152bd8ed0>,\n",
       "  <matplotlib.lines.Line2D at 0x152be1350>,\n",
       "  <matplotlib.lines.Line2D at 0x152be7d50>,\n",
       "  <matplotlib.lines.Line2D at 0x152bf6210>,\n",
       "  <matplotlib.lines.Line2D at 0x152bfebd0>,\n",
       "  <matplotlib.lines.Line2D at 0x155640050>,\n",
       "  <matplotlib.lines.Line2D at 0x15564aa50>,\n",
       "  <matplotlib.lines.Line2D at 0x15564ae50>,\n",
       "  <matplotlib.lines.Line2D at 0x15565e8d0>,\n",
       "  <matplotlib.lines.Line2D at 0x15565ed10>,\n",
       "  <matplotlib.lines.Line2D at 0x155673710>,\n",
       "  <matplotlib.lines.Line2D at 0x155673b50>,\n",
       "  <matplotlib.lines.Line2D at 0x152c3a550>,\n",
       "  <matplotlib.lines.Line2D at 0x152c3a990>,\n",
       "  <matplotlib.lines.Line2D at 0x152c4e310>,\n",
       "  <matplotlib.lines.Line2D at 0x152c4e750>],\n",
       " 'boxes': [<matplotlib.lines.Line2D at 0x13ef24450>,\n",
       "  <matplotlib.lines.Line2D at 0x152bd8210>,\n",
       "  <matplotlib.lines.Line2D at 0x152be7050>,\n",
       "  <matplotlib.lines.Line2D at 0x152bf6e90>,\n",
       "  <matplotlib.lines.Line2D at 0x155640d50>,\n",
       "  <matplotlib.lines.Line2D at 0x155654bd0>,\n",
       "  <matplotlib.lines.Line2D at 0x155667a10>,\n",
       "  <matplotlib.lines.Line2D at 0x152c30850>,\n",
       "  <matplotlib.lines.Line2D at 0x152c43610>],\n",
       " 'medians': [<matplotlib.lines.Line2D at 0x152bd29d0>,\n",
       "  <matplotlib.lines.Line2D at 0x152be1790>,\n",
       "  <matplotlib.lines.Line2D at 0x152bf6650>,\n",
       "  <matplotlib.lines.Line2D at 0x155640490>,\n",
       "  <matplotlib.lines.Line2D at 0x1556542d0>,\n",
       "  <matplotlib.lines.Line2D at 0x155667190>,\n",
       "  <matplotlib.lines.Line2D at 0x155673f90>,\n",
       "  <matplotlib.lines.Line2D at 0x152c3add0>,\n",
       "  <matplotlib.lines.Line2D at 0x152c4eb90>],\n",
       " 'fliers': [<matplotlib.lines.Line2D at 0x152bd2dd0>,\n",
       "  <matplotlib.lines.Line2D at 0x152be1bd0>,\n",
       "  <matplotlib.lines.Line2D at 0x152bf6a90>,\n",
       "  <matplotlib.lines.Line2D at 0x1556408d0>,\n",
       "  <matplotlib.lines.Line2D at 0x155654750>,\n",
       "  <matplotlib.lines.Line2D at 0x1556675d0>,\n",
       "  <matplotlib.lines.Line2D at 0x152c30410>,\n",
       "  <matplotlib.lines.Line2D at 0x152c43250>,\n",
       "  <matplotlib.lines.Line2D at 0x152c4ef90>],\n",
       " 'means': []}"
      ]
     },
     "execution_count": 40,
     "metadata": {},
     "output_type": "execute_result"
    },
    {
     "data": {
      "text/plain": [
       "Text(0.5, 1.0, 'Permutation Importances (train set)')"
      ]
     },
     "execution_count": 40,
     "metadata": {},
     "output_type": "execute_result"
    },
    {
     "data": {
      "image/png": "[encoded data removed]",
      "text/plain": [
       "<Figure size 432x288 with 1 Axes>"
      ]
     },
     "metadata": {
      "needs_background": "light"
     },
     "output_type": "display_data"
    }
   ],
   "source": [
    "result = permutation_importance(rf, X_train, y_train, n_repeats=10,\n",
    "                                random_state=42, n_jobs=2)\n",
    "sorted_idx = result.importances_mean.argsort()\n",
    "\n",
    "fig, ax = plt.subplots()\n",
    "ax.boxplot(result.importances[sorted_idx].T,\n",
    "           vert=False, labels=X_train.columns[sorted_idx])\n",
    "ax.set_title(\"Permutation Importances (train set)\")\n",
    "fig.tight_layout()\n",
    "plt.show()"
   ]
  },
  {
   "cell_type": "markdown",
   "metadata": {},
   "source": [
    "## Partial Dependency"
   ]
  },
  {
   "cell_type": "code",
   "execution_count": 41,
   "metadata": {},
   "outputs": [],
   "source": [
    "from pdpbox import pdp, info_plots"
   ]
  },
  {
   "cell_type": "code",
   "execution_count": 42,
   "metadata": {},
   "outputs": [
    {
     "data": {
      "text/plain": [
       "<AxesSubplot:title={'center':'TimeDiff'}>"
      ]
     },
     "execution_count": 42,
     "metadata": {},
     "output_type": "execute_result"
    },
    {
     "data": {
      "image/png": "[encoded data removed]",
      "text/plain": [
       "<Figure size 432x288 with 1 Axes>"
      ]
     },
     "metadata": {
      "needs_background": "light"
     },
     "output_type": "display_data"
    }
   ],
   "source": [
    "#timediff\n",
    "pdp_iso = pdp.pdp_isolate(model=rf, \n",
    "                          dataset=X_train,      \n",
    "                          model_features=X_train.columns, \n",
    "                          feature='time_diff', \n",
    "                          num_grid_points=50)\n",
    "pdp_dataset = pd.Series(pdp_iso.pdp, index=pdp_iso.feature_grids)\n",
    "pdp_dataset.plot(title='TimeDiff')\n",
    "plt.show()"
   ]
  },
  {
   "cell_type": "code",
   "execution_count": 43,
   "metadata": {},
   "outputs": [
    {
     "data": {
      "text/plain": [
       "<AxesSubplot:title={'center':'Device_Count'}>"
      ]
     },
     "execution_count": 43,
     "metadata": {},
     "output_type": "execute_result"
    },
    {
     "data": {
      "image/png": "[encoded data removed]",
      "text/plain": [
       "<Figure size 432x288 with 1 Axes>"
      ]
     },
     "metadata": {
      "needs_background": "light"
     },
     "output_type": "display_data"
    }
   ],
   "source": [
    "#device count\n",
    "pdp_iso = pdp.pdp_isolate(model=rf, \n",
    "                          dataset=X_train,      \n",
    "                          model_features=X_train.columns, \n",
    "                          feature='device_cnt', \n",
    "                          num_grid_points=50)\n",
    "pdp_dataset = pd.Series(pdp_iso.pdp, index=pdp_iso.feature_grids)\n",
    "pdp_dataset.plot(title='Device_Count')\n",
    "plt.show()"
   ]
  },
  {
   "cell_type": "code",
   "execution_count": 44,
   "metadata": {},
   "outputs": [],
   "source": [
    "from sklearn.inspection import partial_dependence\n",
    "from sklearn.inspection import plot_partial_dependence"
   ]
  },
  {
   "cell_type": "code",
   "execution_count": 45,
   "metadata": {},
   "outputs": [
    {
     "data": {
      "text/plain": [
       "<sklearn.inspection._plot.partial_dependence.PartialDependenceDisplay at 0x141ba2690>"
      ]
     },
     "execution_count": 45,
     "metadata": {},
     "output_type": "execute_result"
    },
    {
     "data": {
      "text/plain": [
       "Text(0.5, 0.98, 'Partial dependence')"
      ]
     },
     "execution_count": 45,
     "metadata": {},
     "output_type": "execute_result"
    },
    {
     "data": {
      "image/png": "[encoded data removed]",
      "text/plain": [
       "<Figure size 432x288 with 4 Axes>"
      ]
     },
     "metadata": {
      "needs_background": "light"
     },
     "output_type": "display_data"
    }
   ],
   "source": [
    "features = ['time_diff', 'device_cnt', 'purchase_value']\n",
    "plot_partial_dependence(rf, X_train, features,\n",
    "                        n_jobs=3, grid_resolution=20)\n",
    "fig = plt.gcf()\n",
    "fig.suptitle('Partial dependence')\n",
    "fig.subplots_adjust(wspace=0.4, hspace=0.3)"
   ]
  }
 ],
 "metadata": {
  "kernelspec": {
   "display_name": "Python 3",
   "language": "python",
   "name": "python3"
  },
  "language_info": {
   "codemirror_mode": {
    "name": "ipython",
    "version": 3
   },
   "file_extension": ".py",
   "mimetype": "text/x-python",
   "name": "python",
   "nbconvert_exporter": "python",
   "pygments_lexer": "ipython3",
   "version": "3.7.6"
  }
 },
 "nbformat": 4,
 "nbformat_minor": 4
}
